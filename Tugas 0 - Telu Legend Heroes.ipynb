{
 "cells": [
  {
   "cell_type": "code",
   "execution_count": 1,
   "metadata": {
    "collapsed": true
   },
   "outputs": [],
   "source": [
    "import pandas as pd\n",
    "import numpy as np"
   ]
  },
  {
   "cell_type": "code",
   "execution_count": 2,
   "metadata": {
    "collapsed": true
   },
   "outputs": [],
   "source": [
    "bacafile = pd.read_csv('F:/machinelearning/test.csv')"
   ]
  },
  {
   "cell_type": "code",
   "execution_count": 3,
   "metadata": {
    "collapsed": true
   },
   "outputs": [],
   "source": [
    "Role = []\n",
    "for ab in range(len(bacafile)):\n",
    "    if bacafile[\"movementSpeed\"][ab] >= 270:\n",
    "        Role.append(\"MARKSMAN\")\n",
    "    elif bacafile[\"mana\"][ab] >= 500:\n",
    "        Role.append(\"MAGE\")\n",
    "    elif bacafile[\"armor\"][ab] >= 25 :\n",
    "        Role.append(\"TANK\")\n",
    "    elif bacafile[\"physicalAttack\"][ab] >= 121:\n",
    "        Role.append(\"ASSASSIN\")\n",
    "    elif bacafile[\"hp\"][ab]>= 2580:\n",
    "        Role.append(\"FIGHTER\")\n",
    "    else:\n",
    "        Role.append(\"SUPPORT\")"
   ]
  },
  {
   "cell_type": "code",
   "execution_count": 4,
   "metadata": {
    "collapsed": true
   },
   "outputs": [],
   "source": [
    "dtFrame2 = pd.DataFrame({ 'name' : bacafile[\"name\"],\n",
    "                    'role' : Role })"
   ]
  },
  {
   "cell_type": "code",
   "execution_count": 5,
   "metadata": {
    "collapsed": true
   },
   "outputs": [],
   "source": [
    "dtFrame2.to_csv('prediction.csv')"
   ]
  },
  {
   "cell_type": "code",
   "execution_count": 6,
   "metadata": {
    "collapsed": true
   },
   "outputs": [],
   "source": [
    "result = pd.DataFrame({ 'name' : bacafile[\"name\"],\n",
    "                    'role' : Role })"
   ]
  },
  {
   "cell_type": "code",
   "execution_count": 7,
   "metadata": {
    "collapsed": true
   },
   "outputs": [],
   "source": [
    "result.to_csv('prediction.csv', index = False)"
   ]
  },
  {
   "cell_type": "code",
   "execution_count": 8,
   "metadata": {
    "collapsed": true
   },
   "outputs": [],
   "source": [
    "#ANGGIYUNIARPUTRI - IF39-02 -1301154492"
   ]
  },
  {
   "cell_type": "code",
   "execution_count": null,
   "metadata": {
    "collapsed": true
   },
   "outputs": [],
   "source": []
  }
 ],
 "metadata": {
  "kernelspec": {
   "display_name": "Python 3",
   "language": "python",
   "name": "python3"
  },
  "language_info": {
   "codemirror_mode": {
    "name": "ipython",
    "version": 3
   },
   "file_extension": ".py",
   "mimetype": "text/x-python",
   "name": "python",
   "nbconvert_exporter": "python",
   "pygments_lexer": "ipython3",
   "version": "3.6.3"
  }
 },
 "nbformat": 4,
 "nbformat_minor": 2
}
